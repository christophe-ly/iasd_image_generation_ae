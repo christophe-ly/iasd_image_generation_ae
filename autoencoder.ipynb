{
  "nbformat": 4,
  "nbformat_minor": 0,
  "metadata": {
    "colab": {
      "name": "AA.ipynb",
      "provenance": [],
      "collapsed_sections": []
    },
    "kernelspec": {
      "name": "python3",
      "display_name": "Python 3"
    },
    "language_info": {
      "name": "python"
    }
  },
  "cells": [
    {
      "cell_type": "code",
      "metadata": {
        "id": "jDR7iYRUKYxz"
      },
      "source": [
        "import keras\n",
        "from keras import layers"
      ],
      "execution_count": null,
      "outputs": []
    },
    {
      "cell_type": "code",
      "metadata": {
        "colab": {
          "base_uri": "https://localhost:8080/"
        },
        "id": "vlWs6tPWKpe4",
        "outputId": "faa52493-4ea9-4b88-9480-7d37e3d61285"
      },
      "source": [
        "from keras.datasets import mnist\n",
        "import numpy as np\n",
        "(x_train, _), (x_test, _) = mnist.load_data()"
      ],
      "execution_count": null,
      "outputs": [
        {
          "output_type": "stream",
          "name": "stdout",
          "text": [
            "Downloading data from https://storage.googleapis.com/tensorflow/tf-keras-datasets/mnist.npz\n",
            "11493376/11490434 [==============================] - 0s 0us/step\n",
            "11501568/11490434 [==============================] - 0s 0us/step\n"
          ]
        }
      ]
    },
    {
      "cell_type": "code",
      "metadata": {
        "colab": {
          "base_uri": "https://localhost:8080/"
        },
        "id": "Amp2W9pgKrqi",
        "outputId": "82a7485e-b4c6-496c-dcdc-7b0fc57a4dc3"
      },
      "source": [
        "x_train = x_train.astype('float32') / 255.\n",
        "x_test = x_test.astype('float32') / 255.\n",
        "x_train = x_train.reshape((len(x_train), np.prod(x_train.shape[1:])))\n",
        "x_test = x_test.reshape((len(x_test), np.prod(x_test.shape[1:])))\n",
        "print(x_train.shape)\n",
        "print(x_test.shape)"
      ],
      "execution_count": null,
      "outputs": [
        {
          "output_type": "stream",
          "name": "stdout",
          "text": [
            "(60000, 784)\n",
            "(10000, 784)\n"
          ]
        }
      ]
    },
    {
      "cell_type": "code",
      "metadata": {
        "id": "oPIR2LfxKu4j"
      },
      "source": [
        "input_img = keras.Input(shape=(784,))\n",
        "encoded = layers.Dense(128, activation='relu')(input_img)\n",
        "encoded = layers.Dense(64, activation='relu')(encoded)\n",
        "encoded = layers.Dense(32, activation='relu')(encoded)\n",
        "\n",
        "decoded = layers.Dense(64, activation='relu')(encoded)\n",
        "decoded = layers.Dense(128, activation='relu')(decoded)\n",
        "decoded = layers.Dense(784, activation='sigmoid')(decoded)"
      ],
      "execution_count": null,
      "outputs": []
    },
    {
      "cell_type": "code",
      "metadata": {
        "colab": {
          "base_uri": "https://localhost:8080/"
        },
        "id": "Oxc09irWKvWl",
        "outputId": "ef8896ec-92db-4463-e4a6-1e536c155c22"
      },
      "source": [
        "encoder = keras.Model(input_img, encoded)\n",
        "decoder = keras.Model(encoded, decoded)\n",
        "\n",
        "autoencoder = keras.Model(input_img, decoded)\n",
        "autoencoder.compile(optimizer='adam', loss='binary_crossentropy')\n",
        "\n",
        "autoencoder.fit(x_train, x_train,\n",
        "                epochs=10,\n",
        "                batch_size=256,\n",
        "                shuffle=True,\n",
        "                validation_data=(x_test, x_test))"
      ],
      "execution_count": null,
      "outputs": [
        {
          "output_type": "stream",
          "name": "stdout",
          "text": [
            "Epoch 1/10\n",
            "235/235 [==============================] - 5s 17ms/step - loss: 0.0855 - val_loss: 0.0835\n",
            "Epoch 2/10\n",
            "235/235 [==============================] - 4s 16ms/step - loss: 0.0842 - val_loss: 0.0834\n",
            "Epoch 3/10\n",
            "235/235 [==============================] - 4s 17ms/step - loss: 0.0842 - val_loss: 0.0835\n",
            "Epoch 4/10\n",
            "235/235 [==============================] - 4s 16ms/step - loss: 0.0842 - val_loss: 0.0835\n",
            "Epoch 5/10\n",
            "235/235 [==============================] - 4s 16ms/step - loss: 0.0841 - val_loss: 0.0832\n",
            "Epoch 6/10\n",
            "235/235 [==============================] - 4s 17ms/step - loss: 0.0840 - val_loss: 0.0831\n",
            "Epoch 7/10\n",
            "235/235 [==============================] - 4s 17ms/step - loss: 0.0839 - val_loss: 0.0828\n",
            "Epoch 8/10\n",
            "235/235 [==============================] - 4s 17ms/step - loss: 0.0838 - val_loss: 0.0829\n",
            "Epoch 9/10\n",
            "235/235 [==============================] - 4s 17ms/step - loss: 0.0837 - val_loss: 0.0832\n",
            "Epoch 10/10\n",
            "235/235 [==============================] - 4s 17ms/step - loss: 0.0836 - val_loss: 0.0827\n"
          ]
        },
        {
          "output_type": "execute_result",
          "data": {
            "text/plain": [
              "<keras.callbacks.History at 0x7f4912f82d90>"
            ]
          },
          "metadata": {},
          "execution_count": 16
        }
      ]
    },
    {
      "cell_type": "code",
      "metadata": {
        "id": "yGmUsskpLwBf"
      },
      "source": [
        "encoded_imgs = encoder.predict(x_test)\n",
        "\n",
        "noise_cst = 10\n",
        "\n",
        "encoded_imgs = encoded_imgs + noise_cst*np.random.normal(loc=0.0, scale=1.0, size=encoded_imgs.shape)  #add noise\n",
        "\n",
        "decoded_imgs = decoder.predict(encoded_imgs)"
      ],
      "execution_count": null,
      "outputs": []
    },
    {
      "cell_type": "code",
      "metadata": {
        "colab": {
          "base_uri": "https://localhost:8080/",
          "height": 244
        },
        "id": "w4jXKnAqK2JB",
        "outputId": "dd3303d8-3f86-42be-90af-ac26d5f42fe8"
      },
      "source": [
        "import matplotlib.pyplot as plt\n",
        "\n",
        "n = 10  # How many digits we will display\n",
        "plt.figure(figsize=(20, 4))\n",
        "for i in range(n):\n",
        "    # Display original\n",
        "    ax = plt.subplot(2, n, i + 1)\n",
        "    plt.imshow(x_test[i].reshape(28, 28))\n",
        "    plt.gray()\n",
        "    ax.get_xaxis().set_visible(False)\n",
        "    ax.get_yaxis().set_visible(False)\n",
        "\n",
        "    # Display reconstruction\n",
        "    ax = plt.subplot(2, n, i + 1 + n)\n",
        "    plt.imshow(decoded_imgs[i].reshape(28, 28))\n",
        "    plt.gray()\n",
        "    ax.get_xaxis().set_visible(False)\n",
        "    ax.get_yaxis().set_visible(False)\n",
        "plt.savefig(\"aa.png\")\n",
        "plt.show()"
      ],
      "execution_count": null,
      "outputs": [
        {
          "output_type": "display_data",
          "data": {
            "image/png": "[encoded data removed]",
            "text/plain": [
              "<Figure size 1440x288 with 20 Axes>"
            ]
          },
          "metadata": {
            "needs_background": "light"
          }
        }
      ]
    }
  ]
}